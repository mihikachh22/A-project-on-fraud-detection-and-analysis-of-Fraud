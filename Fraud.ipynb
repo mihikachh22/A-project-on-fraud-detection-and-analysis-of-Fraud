import numpy as np
import matplotlib.pyplot as plt
import pandas as pd
import seaborn as sns
df=pd.read_csv("creditcard[1].csv")
print(df.shape)
print(df.head(10))
print(df.describe())
df.info()
df.corr()
print(df.groupby('isFraud').size()) 
df.isnull().sum()
df.dropna(inplace=True)
df.isnull().sum()
df_new=df.drop(["nameOrig","nameDest","isFlaggedFraud"],axis=1)
df
sns.heatmap(df_new.corr(),annot=True)
df_new.plot(kind='box', subplots= True, layout=(8,1),sharex = False, sharey= False,figsize=(10,20))
plt.show()
df_new.hist(figsize=(10,10))
plt.show()
from pandas.plotting import scatter_matrix
scatter_matrix(df_new)
plt.gcf().set_size_inches((20, 20)) 
plt.show()
df_new.drop(['newbalanceDest','oldbalanceOrg'],inplace=True,axis=1)
df_train = df[0:150000] # We cut in two the original dataset
df_train_1 = df_train[df_train['Class'] == 1] # We seperate the data which are the frauds and the no frauds
df_train_0 = df_train[df_train['Class'] == 0]
print('In this dataset, we have ' + str(len(df_train_1)) +" frauds so we need to take a similar number of non-fraud")

df_sample=df_train_0.sample(300)
df_train = df_train_1.append(df_sample) # We gather the frauds with the no frauds. 
df_train = df_train.sample(frac=1)
X_train = df_train.drop(['Time', 'Class'],axis=1) # We drop the features Time (useless), and the Class (label)
y_train = df_train['Class'] # We create our label
X_train = np.asarray(X_train)
y_train = np.asarray(y_train)
df_test_all = df[150000:]

X_test_all = df_test_all.drop(['Time', 'Class'],axis=1)
y_test_all = df_test_all['Class']
X_test_all = np.asarray(X_test_all)
y_test_all = np.asarray(y_test_all)
classifier = svm.SVC(kernel='linear') 
from sklearn.preprocessing import StandardScaler
from sklearn.metrics import accuracy_score
from sklearn.svm import SVC
import numpy as np
import matplotlib.pyplot as plt
import pandas as pd
%matplotlib inline
sc = StandardScaler()
X = sc.fit_transform(X)
DF=df_new.replace("PAYMENT",0)
DF1=DF.replace("CASH_IN",1)
df=DF1.replace("CASH_OUT",2)
df1_new=df.replace("TRANSFER",3)
df2_new=df1_new.replace("PAYMENT",4)
df_new=df2_new.replace("DEBIT",5)

X=df_new.drop(["isFraud"],axis=1)
Y=df_new["isFraud"]
plt.figure(figsize=(10,8))
bx =sns.boxplot(x= "amount",data = X )
bx.set_title("Boxplot")
plt.show()

fig,ax=plt.subplots()
print(fig)
print(ax)
ax.violinplot(X["step"],vert=False)
plt.show()

from sklearn.preprocessing import MinMaxScaler
scaler=MinMaxScaler(feature_range=(0,1))
rescaledX=scaler.fit_transform(X)
rescaledX

from sklearn import linear_model
from sklearn.model_selection import train_test_split

X_train,X_test,Y_train,Y_test=train_test_split(X,Y,test_size=0.2)

X=df_new.drop(["isFraud"],axis=1)
Y=df_new["isFraud"]
logit=linear_model.LogisticRegression(C=1e10,max_iter=1e5)
logit.fit(X_train,Y_train)

print('Logistic Regression Accuracy Score on Test data:', logit.score(X_test,Y_test))
print('Logistic Regression Accuracy Score on train data:', logit.score(X_train,Y_train))

from sklearn.metrics import confusion_matrix
predictions = logit.predict(X_test)
print(confusion_matrix(Y_test,predictions))

from sklearn.preprocessing import StandardScaler
from sklearn.metrics import accuracy_score
from sklearn.svm import SVC
import numpy as np
import matplotlib.pyplot as plt
import pandas as pd
%matplotlib inline
X=df_new[["type","amount"]].values
Y=df_new['isFraud'].values
X,Y
x_train,x_test,y_train,y_test = train_test_split(X,Y,test_size=0.25)
svm =SVC(kernel="poly")
svm.fit(x_train,y_train)
y_pred = svm.predict(x_test)
accuracy_score(y_test,y_pred)
from matplotlib.colors import ListedColormap


setX, setY = x_train, y_train
start = setX[:,0].min() - 1
stop = setX[:,0].max() + 1
x1 = np.arange(start, stop, step=0.01)
start = setX[:,1].min() - 1
stop = setX[:,1].max() + 1
x2 = np.arange(start, stop, step=0.01)
xx,yy = np.meshgrid(x1,x2)

z = svm.predict(np.array([xx.ravel(), yy.ravel()]).T).reshape(xx.shape)
z
plt.contourf(xx, yy, z, alpha = 0.75, cmap = ListedColormap(('green','red')))
plt.xlim(xx.min(), xx.max())
plt.ylim(yy.min(),yy.max())
plt.scatter(x_train[:,0],x_train[:,1],c=y_train)
plt.show()
svm =SVC(kernel="rbf")
svm.fit(x_train,y_train)

y_pred = svm.predict(x_test)
accuracy_score(y_test,y_pred)

z = svm.predict(np.array([xx.ravel(), yy.ravel()]).T).reshape(xx.shape)
z
plt.contourf(xx, yy, z, alpha = 0.75, cmap = ListedColormap(('green','red')))
plt.xlim(xx.min(), xx.max())
plt.ylim(yy.min(),yy.max())
plt.scatter(x_train[:,0],x_train[:,1],c=y_train)
plt.show()

from sklearn.naive_bayes import MultinomialNB, \
 GaussianNB, BernoulliNB
from sklearn import metrics
from sklearn.svm import LinearSVC
svm =LinearSVC()
svm.fit(x_train,y_train)

y_pred = svm.predict(x_test)
accuracy_score(y_test,y_pred)

z = svm.predict(np.array([xx.ravel(), yy.ravel()]).T).reshape(xx.shape)
z

sns.set(rc={"figure.figsize":(7,5)})
plt.contourf(xx, yy, z, alpha = 0.75, cmap = ListedColormap(('green','red')))
plt.xlim(xx.min(), xx.max())
plt.ylim(yy.min(),yy.max())
plt.scatter(x_train[:,0],x_train[:,1],c=y_train)

plt.show()

accuracy_score(y_test,y_pred)

from sklearn.tree import DecisionTreeClassifier
from sklearn.externals.six import StringIO  
from IPython.display import Image  
from sklearn.tree import export_graphviz
import pydotplus

X=df_new.drop(["isFraud"],axis=1)
Y=df_new["isFraud"]
clf = DecisionTreeClassifier()
clf.fit(x_test,y_test)

import os

os.environ['PATH'] = os.environ['PATH']+';'+os.environ['CONDA_PREFIX']+r"\Library\bin\graphviz"
dot_data = StringIO()
export_graphviz(clf, out_file=dot_data, filled=True, rounded=True, special_characters=True)
graph = pydotplus.graph_from_dot_data(dot_data.getvalue()) 
Image(graph.create_png())

X=df_new.drop(["isFraud"],axis=1)
Y=df_new["isFraud"]

dt_clf = DecisionTreeClassifier()
dt_clf.fit(X_train,Y_train)
print('Decision Tree Accuracy Score:', dt_clf.score(X_test,Y_test))

from sklearn.metrics import confusion_matrix
predictions = dt_clf.predict(X_test)
print(confusion_matrix(Y_test,predictions))

X=df_new.drop(["isFraud"],axis=1)
Y=df_new["isFraud"]
from sklearn import metrics 
from sklearn.naive_bayes import GaussianNB
gnb= GaussianNB()
gnb.fit(X_train,Y_train)
print('GaussianNB Accuracy Score:', gnb.score(X_test,Y_test))

from sklearn.metrics import confusion_matrix
predictions = gnb.predict(X_test)
print(confusion_matrix(Y_test,predictions))


from sklearn.naive_bayes import BernoulliNB
bnb =BernoulliNB()
bnb.fit(X_train, Y_train)
#print(metrics.accuracy_score(X_test,Y_test))
y_pred_class = bnb.predict(X_test)
print(metrics.accuracy_score(Y_test, y_pred_class))
from sklearn.metrics import confusion_matrix
predictions = bnb.predict(X_test)
print(confusion_matrix(Y_test,predictions))


from sklearn import metrics 
from sklearn.naive_bayes import MultinomialNB
mnb= MultinomialNB()
mnb.fit(X_train,Y_train)
print('GaussianNB Accuracy Score:', mnb.score(X_test,Y_test))

from sklearn.metrics import confusion_matrix
predictions = mnb.predict(X_test)
print(confusion_matrix(Y_test,predictions))

X=df_new.drop(["isFraud"],axis=1)
Y=df_new["isFraud"]
x_train,x_test,y_train,y_test = train_test_split(X,Y,test_size=0.25)
from sklearn.ensemble import RandomForestClassifier
rf_clf = RandomForestClassifier(class_weight='balanced')
rf_clf.fit(X_train,Y_train)
print('Random Forest Classifier Accuracy Score:', rf_clf.score(X_test,Y_test))

from sklearn.metrics import confusion_matrix
predictions = rf_clf.predict(X_test)
print(confusion_matrix(Y_test,predictions))

rf_clf.fit(x_train,y_train)


X=df_new.drop(["isFraud"],axis=1)
Y=df_new["isFraud"]
from sklearn.neighbors import KNeighborsClassifier
knn_clf= KNeighborsClassifier(n_neighbors=5, algorithm='ball_tree', weights='distance')
knn_clf.fit(X_train,Y_train)
print('KNN Accuracy Score:', knn_clf.score(X_test,Y_test))

from sklearn.metrics import confusion_matrix
predictions = knn_clf.predict(X_test)
print(confusion_matrix(Y_test,predictions))


